{
 "metadata": {
  "language_info": {
   "codemirror_mode": {
    "name": "ipython",
    "version": 3
   },
   "file_extension": ".py",
   "mimetype": "text/x-python",
   "name": "python",
   "nbconvert_exporter": "python",
   "pygments_lexer": "ipython3",
   "version": "3.7.6-final"
  },
  "orig_nbformat": 2,
  "kernelspec": {
   "name": "python37664bitdaf68ec51b214baf9af08cd066fb28ec",
   "display_name": "Python 3.7.6 64-bit",
   "language": "python"
  }
 },
 "nbformat": 4,
 "nbformat_minor": 2,
 "cells": [
  {
   "cell_type": "code",
   "execution_count": 1,
   "metadata": {},
   "outputs": [],
   "source": [
    "import pandas as pd\n",
    "import seaborn as sns\n",
    "import numpy as np\n",
    "import matplotlib.pyplot as plt"
   ]
  },
  {
   "cell_type": "code",
   "execution_count": 6,
   "metadata": {},
   "outputs": [],
   "source": [
    "data_root = r\"C:\\Users\\hmand\\OneDrive\\Documents\\GitHub\\butt-munchers\\data\"\n",
    "plots_root = r\"C:\\Users\\hmand\\OneDrive\\Documents\\GitHub\\butt-munchers\\plots\"\n",
    "managers = [\"Eric W\", \"Hank M\", \"Evan Culbert\", \"Dylan Hochstetler\", \"Sam Bunz\", \"Dirk Opland\", \"Zach Crane\", \"Brad Neese\", \"Faisal Alabsi\", \"Matthew Knoedel\", \"Jacob Blum\", \"Brian Ross\", \"Erik Anderson\"]\n",
    "years = [2015, 2016, 2017, 2018, 2019, 2020]"
   ]
  },
  {
   "cell_type": "code",
   "execution_count": 42,
   "metadata": {},
   "outputs": [],
   "source": [
    "players = pd.read_excel(data_root + r\"\\buttmunchers.xlsx\", sheet_name=\"Player Data Breakout\")\n",
    "games = pd.read_excel(data_root + r\"\\buttmunchers.xlsx\", sheet_name=\"Buttmuncher Games\")"
   ]
  },
  {
   "source": [
    "##All time records"
   ],
   "cell_type": "markdown",
   "metadata": {}
  },
  {
   "cell_type": "code",
   "execution_count": 7,
   "metadata": {},
   "outputs": [],
   "source": [
    "records = {name : [0, 0, 0, 0] for name in managers}\n",
    "for i, row in games.iterrows():\n",
    "    if row[\"Result\"] == \"W\" :\n",
    "        records[row[\"Managers\"]][0] += 1\n",
    "    else :\n",
    "        records[row[\"Managers\"]][1] += 1\n",
    "    records[row[\"Managers\"]][2] += row[\"Score\"]\n",
    "    records[row[\"Managers\"]][3] += row[\"Opponent Score\"]\n"
   ]
  },
  {
   "cell_type": "code",
   "execution_count": 13,
   "metadata": {},
   "outputs": [],
   "source": [
    "all_time_leaderboard_df = pd.DataFrame.from_dict(records,orient=\"index\", columns=[\"Total Wins\", \"Total Losses\", \"Total Points For\", \"Total Points Against\"])\n",
    "all_time_leaderboard_df.sort_values(by=[\"Total Wins\", \"Total Points For\"], inplace=True, ascending=False)\n",
    "all_time_leaderboard_df.to_csv(data_root + r\"\\alltimewins.csv\")"
   ]
  },
  {
   "cell_type": "code",
   "execution_count": 15,
   "metadata": {},
   "outputs": [
    {
     "output_type": "stream",
     "name": "stdout",
     "text": [
      "{'Eric W': ['W', 1, 1, 6, 10], 'Hank M': ['W', 1, 1, 5, 5], 'Evan Culbert': ['L', 1, 1, 5, 7], 'Dylan Hochstetler': ['L', 1, 1, 6, 4], 'Sam Bunz': ['L', 1, 2, 7, 3], 'Dirk Opland': ['L', 1, 2, 6, 7], 'Zach Crane': ['L', 1, 1, 5, 7], 'Brad Neese': ['W', 1, 1, 3, 6], 'Faisal Alabsi': ['W', 6, 1, 6, 6], 'Matthew Knoedel': ['W', 1, 1, 7, 6], 'Jacob Blum': ['W', 2, 1, 2, 6], 'Brian Ross': ['L', 1, 1, 8, 12], 'Erik Anderson': ['L', 1, 2, 3, 5]}\n"
     ]
    }
   ],
   "source": [
    "records = {name : [None, 0, 0, 0, 0] for name in managers}\n",
    "for i, row in games.iterrows():\n",
    "    if records[row[\"Managers\"]][0] == row[\"Result\"] :\n",
    "        if row[\"Result\"] == \"W\" :\n",
    "            records[row[\"Managers\"]][1] += 1\n",
    "        if row[\"Result\"] == \"L\" :\n",
    "            records[row[\"Managers\"]][2] += 1\n",
    "    else :\n",
    "        records[row[\"Managers\"]][0] = row[\"Result\"]\n",
    "        records[row[\"Managers\"]][1] = 1\n",
    "        records[row[\"Managers\"]][2] = 1\n",
    "    if records[row[\"Managers\"]][1] > records[row[\"Managers\"]][3] :\n",
    "        records[row[\"Managers\"]][3] = records[row[\"Managers\"]][1]\n",
    "    if records[row[\"Managers\"]][2] > records[row[\"Managers\"]][4] :\n",
    "        records[row[\"Managers\"]][4] = records[row[\"Managers\"]][2]\n",
    "print(records)"
   ]
  },
  {
   "source": [
    "Hottest Streaks (Wins) :\n",
    "    1. Brian Ross - 8\n",
    "    2. Sam Bunz - 7\n",
    "    2. Matthew Knoedel - 7\n",
    "    3. Eric Welter - 6\n",
    "    3. Dylan Hochstetler - 6\n",
    "    3. Dirk Opland - 6\n",
    "    3. Faisal Alabsi - 6\n",
    "Coldest Streaks (Losses) :\n",
    "    1. Brian Ross - 12\n",
    "    2. Eric Welter - 10\n",
    "    3. Evan Culbert - 7\n"
   ],
   "cell_type": "markdown",
   "metadata": {}
  },
  {
   "cell_type": "code",
   "execution_count": null,
   "metadata": {},
   "outputs": [],
   "source": []
  },
  {
   "cell_type": "code",
   "execution_count": 43,
   "metadata": {},
   "outputs": [
    {
     "output_type": "stream",
     "name": "stdout",
     "text": [
      "   Year       Title                      Team Name     Managers  \\\n0  2019  NFL Week 1  Javaris Jamar Javarison-Lamar  Dirk Opland   \n1  2019  NFL Week 1  Javaris Jamar Javarison-Lamar  Dirk Opland   \n2  2019  NFL Week 1  Javaris Jamar Javarison-Lamar  Dirk Opland   \n3  2019  NFL Week 1  Javaris Jamar Javarison-Lamar  Dirk Opland   \n4  2019  NFL Week 1  Javaris Jamar Javarison-Lamar  Dirk Opland   \n5  2019  NFL Week 1  Javaris Jamar Javarison-Lamar  Dirk Opland   \n6  2019  NFL Week 1  Javaris Jamar Javarison-Lamar  Dirk Opland   \n7  2019  NFL Week 1  Javaris Jamar Javarison-Lamar  Dirk Opland   \n8  2019  NFL Week 1  Javaris Jamar Javarison-Lamar  Dirk Opland   \n9  2019  NFL Week 1  Javaris Jamar Javarison-Lamar  Dirk Opland   \n\n  Starter or Bench   Slot          Player Name Player Team Player Position  \\\n0          Starter     QB   Ben Roethlisberger         Pit              QB   \n1          Starter     RB      Kerryon Johnson         Det              RB   \n2          Starter     RB     Devin Singletary         Buf              RB   \n3          Starter     WR       Michael Thomas          NO              WR   \n4          Starter     WR  JuJu Smith-Schuster         Pit              WR   \n5          Starter     TE            Zach Ertz         Phi              TE   \n6          Starter   FLEX          Josh Gordon         Sea              WR   \n7          Starter   D/ST           Bills D/ST         Buf            D/ST   \n8          Starter      K          Matt Prater         Det               K   \n9            Bench  Bench     Sterling Shepard         NYG              WR   \n\n   Projected Points  Total Points  \n0              19.0          9.74  \n1              11.4          6.20  \n2               8.1          9.80  \n3              11.4         12.30  \n4              11.1          7.80  \n5               8.2          5.40  \n6               8.9         13.30  \n7               6.7         11.00  \n8               7.1         11.00  \n9               8.8          4.20  \n"
     ]
    }
   ],
   "source": [
    "records = []\n",
    "weeks = [\"NFL Week \" + str(i) for i in range(1,14)]\n",
    "years = [2019, 2020]\n",
    "players[\"Projected Points\"] = players[\"Projected Points\"].astype(str)\n",
    "players[\"Projected Points\"] = players[\"Projected Points\"].str.replace(\"--\",\"0\").astype(float)\n",
    "print(players.head(10))\n",
    "for year in years :\n",
    "    for week in weeks :\n",
    "        for manager in managers :\n",
    "            df = players.loc[(players[\"Year\"] == year) & (players[\"Title\"] == week) & (players[\"Managers\"] == manager)]\n",
    "            starters_projected = df.loc[df[\"Slot\"] != \"Bench\"][\"Projected Points\"].sum()\n",
    "            bench_projected = df.loc[df[\"Slot\"] == \"Bench\"][\"Projected Points\"].sum()\n",
    "            starters_actual = df.loc[df[\"Slot\"] != \"Bench\"][\"Total Points\"].sum()\n",
    "            bench_actual = df.loc[df[\"Slot\"] == \"Bench\"][\"Total Points\"].sum()\n",
    "            difference = starters_actual - starters_projected\n",
    "            records.append([year, week, manager, starters_projected, bench_projected, starters_actual, bench_actual, difference])\n",
    "boomer_buster_df = pd.DataFrame(records, columns=[\"Year\", \"Week\", \"Manager\", \"Projected Starters\", \"Projected Bench\", \"Actual Starters\", \"Actual Bench\", \"Difference in Projected\"])\n",
    "boomer_buster_df.to_csv(data_root + r\"\\boombust.csv\")"
   ]
  },
  {
   "cell_type": "code",
   "execution_count": 44,
   "metadata": {},
   "outputs": [
    {
     "output_type": "stream",
     "name": "stdout",
     "text": [
      "   Year        Week            Manager  Projected Starters  Projected Bench  \\\n0  2019  NFL Week 1             Eric W                95.1             57.1   \n1  2019  NFL Week 1             Hank M                98.3             40.5   \n2  2019  NFL Week 1       Evan Culbert                87.2             47.9   \n3  2019  NFL Week 1  Dylan Hochstetler               103.4             38.5   \n4  2019  NFL Week 1           Sam Bunz                94.9             47.2   \n\n   Actual Starters  Actual Bench  \n0            38.92         46.56  \n1           145.30         45.50  \n2           105.42         48.32  \n3            89.52         34.20  \n4            93.72        100.40  \n"
     ]
    }
   ],
   "source": [
    "print(boomer_buster_df.head())"
   ]
  },
  {
   "cell_type": "code",
   "execution_count": 45,
   "metadata": {},
   "outputs": [
    {
     "output_type": "stream",
     "name": "stdout",
     "text": [
      "     Year         Week      Manager  Projected Starters  Projected Bench  \\\n4    2019   NFL Week 1     Sam Bunz                94.9             47.2   \n167  2019  NFL Week 13   Brian Ross                96.2             77.8   \n6    2019   NFL Week 1   Zach Crane                88.9             61.2   \n317  2020  NFL Week 12  Dirk Opland                98.9             59.1   \n104  2019   NFL Week 9       Eric W                86.8             45.7   \n\n     Actual Starters  Actual Bench  \n4              93.72        100.40  \n167            71.14         91.34  \n6              81.24         85.04  \n317            72.92         82.26  \n104            71.00         81.44  \n"
     ]
    }
   ],
   "source": [
    "print(boomer_buster_df.sort_values(\"Actual Bench\", ascending=False).head(5))"
   ]
  },
  {
   "cell_type": "code",
   "execution_count": null,
   "metadata": {},
   "outputs": [],
   "source": []
  }
 ]
}